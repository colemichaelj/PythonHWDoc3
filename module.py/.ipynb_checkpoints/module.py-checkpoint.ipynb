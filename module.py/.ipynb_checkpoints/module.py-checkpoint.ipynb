{
 "cells": [
  {
   "cell_type": "code",
   "execution_count": null,
   "id": "120fb81e",
   "metadata": {},
   "outputs": [],
   "source": [
    "from math import pi as p\n",
    "\n",
    "def printName(name):\n",
    "    print(f\"Hello Mr/Ms {name}...we've been waiting for you!\")\n",
    "\n",
    "\n",
    "def area(length, width):\n",
    "    return length*width\n",
    "\n",
    "def circumference(radius):\n",
    "    return 2*p*radius"
   ]
  }
 ],
 "metadata": {
  "kernelspec": {
   "display_name": "Python 3 (ipykernel)",
   "language": "python",
   "name": "python3"
  },
  "language_info": {
   "codemirror_mode": {
    "name": "ipython",
    "version": 3
   },
   "file_extension": ".py",
   "mimetype": "text/x-python",
   "name": "python",
   "nbconvert_exporter": "python",
   "pygments_lexer": "ipython3",
   "version": "3.9.13"
  }
 },
 "nbformat": 4,
 "nbformat_minor": 5
}
